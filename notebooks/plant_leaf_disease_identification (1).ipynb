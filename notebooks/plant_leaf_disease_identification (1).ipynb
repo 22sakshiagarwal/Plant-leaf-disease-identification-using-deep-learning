{
  "cells": [
    {
      "cell_type": "code",
      "execution_count": 1,
      "metadata": {
        "id": "ODG_QWZH5fJA"
      },
      "outputs": [
        {
          "ename": "ModuleNotFoundError",
          "evalue": "No module named 'google.colab'",
          "output_type": "error",
          "traceback": [
            "\u001b[1;31m---------------------------------------------------------------------------\u001b[0m",
            "\u001b[1;31mModuleNotFoundError\u001b[0m                       Traceback (most recent call last)",
            "Cell \u001b[1;32mIn[1], line 1\u001b[0m\n\u001b[1;32m----> 1\u001b[0m \u001b[38;5;28;01mfrom\u001b[39;00m \u001b[38;5;21;01mgoogle\u001b[39;00m\u001b[38;5;21;01m.\u001b[39;00m\u001b[38;5;21;01mcolab\u001b[39;00m \u001b[38;5;28;01mimport\u001b[39;00m drive\n",
            "\u001b[1;31mModuleNotFoundError\u001b[0m: No module named 'google.colab'"
          ]
        }
      ],
      "source": [
        "from google.colab import drive"
      ]
    },
    {
      "cell_type": "code",
      "execution_count": null,
      "metadata": {
        "colab": {
          "base_uri": "https://localhost:8080/"
        },
        "id": "B8QLudz5vHJ_",
        "outputId": "89b4b15e-87bd-4a71-aadd-cba5bd7b244a"
      },
      "outputs": [
        {
          "name": "stdout",
          "output_type": "stream",
          "text": [
            "Drive already mounted at /content/drive; to attempt to forcibly remount, call drive.mount(\"/content/drive\", force_remount=True).\n"
          ]
        }
      ],
      "source": [
        " drive.mount('/content/drive')"
      ]
    },
    {
      "cell_type": "code",
      "execution_count": null,
      "metadata": {
        "id": "cNSk0imswZBh"
      },
      "outputs": [],
      "source": [
        "import pandas as pd\n",
        "import numpy as np\n",
        "import matplotlib.pyplot as plt\n",
        "import os\n",
        "\n",
        "import keras\n",
        "\n",
        "from keras.preprocessing.image import  ImageDataGenerator, img_to_array, load_img\n",
        "\n",
        "from keras.applications.vgg19 import VGG19, preprocess_input, decode_predictions"
      ]
    },
    {
      "cell_type": "code",
      "execution_count": null,
      "metadata": {
        "colab": {
          "base_uri": "https://localhost:8080/"
        },
        "id": "jgzhTYlRczx8",
        "outputId": "2b778c67-533b-43c5-db8a-079913d27722"
      },
      "outputs": [
        {
          "data": {
            "text/plain": [
              "15"
            ]
          },
          "execution_count": 33,
          "metadata": {},
          "output_type": "execute_result"
        }
      ],
      "source": [
        "#EDA\n",
        "\n",
        "len(os.listdir(\"/content/drive/MyDrive/data/dataset/train\"))"
      ]
    },
    {
      "cell_type": "code",
      "execution_count": null,
      "metadata": {
        "id": "KqgULjGAgSGf"
      },
      "outputs": [],
      "source": [
        "train_datagen= ImageDataGenerator(zoom_range=0.5,shear_range= 0.3 ,horizontal_flip=True,preprocessing_function= preprocess_input)\n",
        "\n",
        "val_datagen=ImageDataGenerator(preprocessing_function= preprocess_input)\n",
        "\n",
        "test_datagen=ImageDataGenerator(preprocessing_function=preprocess_input)"
      ]
    },
    {
      "cell_type": "code",
      "execution_count": null,
      "metadata": {
        "colab": {
          "base_uri": "https://localhost:8080/"
        },
        "id": "m_ZDjq01hJJE",
        "outputId": "28810545-0d1f-4995-83f1-5a7dc94cee21"
      },
      "outputs": [
        {
          "name": "stdout",
          "output_type": "stream",
          "text": [
            "Found 16504 images belonging to 15 classes.\n",
            "Found 2070 images belonging to 15 classes.\n",
            "Found 2064 images belonging to 15 classes.\n"
          ]
        }
      ],
      "source": [
        "train=train_datagen.flow_from_directory(directory=\"/content/drive/MyDrive/data/dataset/train\",target_size=(256,256),batch_size=32)\n",
        "\n",
        "val=val_datagen.flow_from_directory(directory=\"/content/drive/MyDrive/data/dataset/validation\",target_size=(256,256),batch_size=32)\n",
        "\n",
        "test=test_datagen.flow_from_directory(directory=\"/content/drive/MyDrive/data/dataset/test\",target_size=(256,256),batch_size=32)\n"
      ]
    },
    {
      "cell_type": "code",
      "execution_count": null,
      "metadata": {
        "id": "8vql_i62sly2"
      },
      "outputs": [],
      "source": [
        "t_img,label = train.next()"
      ]
    },
    {
      "cell_type": "code",
      "execution_count": null,
      "metadata": {
        "id": "v0zlHYaEs2Fx"
      },
      "outputs": [],
      "source": [
        "def plotImage(img_arr,label):\n",
        "\n",
        "  for im , l in zip(img_arr , label):\n",
        "    plt.figure(figsize=(5,5))\n",
        "\n",
        "    plt.show()"
      ]
    },
    {
      "cell_type": "code",
      "execution_count": null,
      "metadata": {
        "colab": {
          "base_uri": "https://localhost:8080/",
          "height": 69
        },
        "id": "AxpILsQutzyN",
        "outputId": "c06670a3-5107-47d8-fcbd-a50f248f4a1a"
      },
      "outputs": [
        {
          "data": {
            "text/plain": [
              "<Figure size 500x500 with 0 Axes>"
            ]
          },
          "metadata": {},
          "output_type": "display_data"
        },
        {
          "data": {
            "text/plain": [
              "<Figure size 500x500 with 0 Axes>"
            ]
          },
          "metadata": {},
          "output_type": "display_data"
        },
        {
          "data": {
            "text/plain": [
              "<Figure size 500x500 with 0 Axes>"
            ]
          },
          "metadata": {},
          "output_type": "display_data"
        }
      ],
      "source": [
        "plotImage(t_img[:3],label[:3])"
      ]
    },
    {
      "cell_type": "markdown",
      "metadata": {
        "id": "xBLJc3yTy959"
      },
      "source": [
        "# **BUILDING** **OUR** **MODEL**"
      ]
    },
    {
      "cell_type": "code",
      "execution_count": null,
      "metadata": {
        "id": "ELk1TtL7t0Mv"
      },
      "outputs": [],
      "source": [
        "from keras.layers import Dense,Flatten\n",
        "from keras.models import Model\n",
        "from keras.applications.vgg19 import VGG19\n",
        "import keras"
      ]
    },
    {
      "cell_type": "code",
      "execution_count": null,
      "metadata": {
        "id": "02JKRvZOz1xF"
      },
      "outputs": [],
      "source": [
        "base_model = VGG19(input_shape=(256,256,3), include_top= False)\n"
      ]
    },
    {
      "cell_type": "code",
      "execution_count": null,
      "metadata": {
        "id": "2ZgXdgHE1HYF"
      },
      "outputs": [],
      "source": [
        "for layer in base_model.layers:\n",
        "  layer.trainable = False"
      ]
    },
    {
      "cell_type": "code",
      "execution_count": null,
      "metadata": {
        "colab": {
          "base_uri": "https://localhost:8080/"
        },
        "collapsed": true,
        "id": "yWteEqah2T3K",
        "outputId": "be13c1b9-227d-456a-c863-ab86a106e56c"
      },
      "outputs": [
        {
          "name": "stdout",
          "output_type": "stream",
          "text": [
            "Model: \"vgg19\"\n",
            "_________________________________________________________________\n",
            " Layer (type)                Output Shape              Param #   \n",
            "=================================================================\n",
            " input_2 (InputLayer)        [(None, 256, 256, 3)]     0         \n",
            "                                                                 \n",
            " block1_conv1 (Conv2D)       (None, 256, 256, 64)      1792      \n",
            "                                                                 \n",
            " block1_conv2 (Conv2D)       (None, 256, 256, 64)      36928     \n",
            "                                                                 \n",
            " block1_pool (MaxPooling2D)  (None, 128, 128, 64)      0         \n",
            "                                                                 \n",
            " block2_conv1 (Conv2D)       (None, 128, 128, 128)     73856     \n",
            "                                                                 \n",
            " block2_conv2 (Conv2D)       (None, 128, 128, 128)     147584    \n",
            "                                                                 \n",
            " block2_pool (MaxPooling2D)  (None, 64, 64, 128)       0         \n",
            "                                                                 \n",
            " block3_conv1 (Conv2D)       (None, 64, 64, 256)       295168    \n",
            "                                                                 \n",
            " block3_conv2 (Conv2D)       (None, 64, 64, 256)       590080    \n",
            "                                                                 \n",
            " block3_conv3 (Conv2D)       (None, 64, 64, 256)       590080    \n",
            "                                                                 \n",
            " block3_conv4 (Conv2D)       (None, 64, 64, 256)       590080    \n",
            "                                                                 \n",
            " block3_pool (MaxPooling2D)  (None, 32, 32, 256)       0         \n",
            "                                                                 \n",
            " block4_conv1 (Conv2D)       (None, 32, 32, 512)       1180160   \n",
            "                                                                 \n",
            " block4_conv2 (Conv2D)       (None, 32, 32, 512)       2359808   \n",
            "                                                                 \n",
            " block4_conv3 (Conv2D)       (None, 32, 32, 512)       2359808   \n",
            "                                                                 \n",
            " block4_conv4 (Conv2D)       (None, 32, 32, 512)       2359808   \n",
            "                                                                 \n",
            " block4_pool (MaxPooling2D)  (None, 16, 16, 512)       0         \n",
            "                                                                 \n",
            " block5_conv1 (Conv2D)       (None, 16, 16, 512)       2359808   \n",
            "                                                                 \n",
            " block5_conv2 (Conv2D)       (None, 16, 16, 512)       2359808   \n",
            "                                                                 \n",
            " block5_conv3 (Conv2D)       (None, 16, 16, 512)       2359808   \n",
            "                                                                 \n",
            " block5_conv4 (Conv2D)       (None, 16, 16, 512)       2359808   \n",
            "                                                                 \n",
            " block5_pool (MaxPooling2D)  (None, 8, 8, 512)         0         \n",
            "                                                                 \n",
            "=================================================================\n",
            "Total params: 20024384 (76.39 MB)\n",
            "Trainable params: 0 (0.00 Byte)\n",
            "Non-trainable params: 20024384 (76.39 MB)\n",
            "_________________________________________________________________\n"
          ]
        }
      ],
      "source": [
        "base_model.summary()"
      ]
    },
    {
      "cell_type": "code",
      "execution_count": null,
      "metadata": {
        "id": "J3hN8rmt2gof"
      },
      "outputs": [],
      "source": [
        "x= Flatten()(base_model.output)\n",
        "\n",
        "x=Dense(units =15 ,activation='softmax')(x)\n",
        "\n",
        "\n",
        "\n",
        "#creating our model\n",
        "model= Model(base_model.input,x)\n"
      ]
    },
    {
      "cell_type": "code",
      "execution_count": null,
      "metadata": {
        "colab": {
          "base_uri": "https://localhost:8080/"
        },
        "collapsed": true,
        "id": "pkg9Vubg73Dm",
        "outputId": "c31a8e96-af5a-4a15-964a-84affbe1eff1"
      },
      "outputs": [
        {
          "name": "stdout",
          "output_type": "stream",
          "text": [
            "Model: \"model_1\"\n",
            "_________________________________________________________________\n",
            " Layer (type)                Output Shape              Param #   \n",
            "=================================================================\n",
            " input_2 (InputLayer)        [(None, 256, 256, 3)]     0         \n",
            "                                                                 \n",
            " block1_conv1 (Conv2D)       (None, 256, 256, 64)      1792      \n",
            "                                                                 \n",
            " block1_conv2 (Conv2D)       (None, 256, 256, 64)      36928     \n",
            "                                                                 \n",
            " block1_pool (MaxPooling2D)  (None, 128, 128, 64)      0         \n",
            "                                                                 \n",
            " block2_conv1 (Conv2D)       (None, 128, 128, 128)     73856     \n",
            "                                                                 \n",
            " block2_conv2 (Conv2D)       (None, 128, 128, 128)     147584    \n",
            "                                                                 \n",
            " block2_pool (MaxPooling2D)  (None, 64, 64, 128)       0         \n",
            "                                                                 \n",
            " block3_conv1 (Conv2D)       (None, 64, 64, 256)       295168    \n",
            "                                                                 \n",
            " block3_conv2 (Conv2D)       (None, 64, 64, 256)       590080    \n",
            "                                                                 \n",
            " block3_conv3 (Conv2D)       (None, 64, 64, 256)       590080    \n",
            "                                                                 \n",
            " block3_conv4 (Conv2D)       (None, 64, 64, 256)       590080    \n",
            "                                                                 \n",
            " block3_pool (MaxPooling2D)  (None, 32, 32, 256)       0         \n",
            "                                                                 \n",
            " block4_conv1 (Conv2D)       (None, 32, 32, 512)       1180160   \n",
            "                                                                 \n",
            " block4_conv2 (Conv2D)       (None, 32, 32, 512)       2359808   \n",
            "                                                                 \n",
            " block4_conv3 (Conv2D)       (None, 32, 32, 512)       2359808   \n",
            "                                                                 \n",
            " block4_conv4 (Conv2D)       (None, 32, 32, 512)       2359808   \n",
            "                                                                 \n",
            " block4_pool (MaxPooling2D)  (None, 16, 16, 512)       0         \n",
            "                                                                 \n",
            " block5_conv1 (Conv2D)       (None, 16, 16, 512)       2359808   \n",
            "                                                                 \n",
            " block5_conv2 (Conv2D)       (None, 16, 16, 512)       2359808   \n",
            "                                                                 \n",
            " block5_conv3 (Conv2D)       (None, 16, 16, 512)       2359808   \n",
            "                                                                 \n",
            " block5_conv4 (Conv2D)       (None, 16, 16, 512)       2359808   \n",
            "                                                                 \n",
            " block5_pool (MaxPooling2D)  (None, 8, 8, 512)         0         \n",
            "                                                                 \n",
            " flatten_1 (Flatten)         (None, 32768)             0         \n",
            "                                                                 \n",
            " dense_1 (Dense)             (None, 15)                491535    \n",
            "                                                                 \n",
            "=================================================================\n",
            "Total params: 20515919 (78.26 MB)\n",
            "Trainable params: 491535 (1.88 MB)\n",
            "Non-trainable params: 20024384 (76.39 MB)\n",
            "_________________________________________________________________\n"
          ]
        }
      ],
      "source": [
        "model.summary()"
      ]
    },
    {
      "cell_type": "code",
      "execution_count": null,
      "metadata": {
        "colab": {
          "base_uri": "https://localhost:8080/"
        },
        "id": "XG_ZYsVY9FvE",
        "outputId": "3f59970c-ad1e-44e3-d168-f8383fabe3a6"
      },
      "outputs": [
        {
          "name": "stdout",
          "output_type": "stream",
          "text": [
            "Drive already mounted at /content/drive; to attempt to forcibly remount, call drive.mount(\"/content/drive\", force_remount=True).\n"
          ]
        }
      ],
      "source": [
        "from google.colab import drive\n",
        "drive.mount('/content/drive')"
      ]
    },
    {
      "cell_type": "code",
      "execution_count": null,
      "metadata": {
        "id": "0Z_UoyZXAcCJ"
      },
      "outputs": [],
      "source": [
        "model.compile(optimizer= 'adam'  , loss = keras.losses.categorical_crossentropy , metrics =['accuracy'])"
      ]
    },
    {
      "cell_type": "markdown",
      "metadata": {
        "id": "GuIFMb1w8NvR"
      },
      "source": [
        "# **EARLY STOPPING AND MODEL CHECK POINT**"
      ]
    },
    {
      "cell_type": "code",
      "execution_count": null,
      "metadata": {
        "id": "1hmqE_L78YYF"
      },
      "outputs": [],
      "source": [
        "from keras.callbacks import ModelCheckpoint ,EarlyStopping\n",
        "\n",
        "#early stopping\n",
        "es = EarlyStopping(monitor= 'val_accuracy', min_delta= 0.01 ,patience = 3, verbose= 1)\n",
        "\n",
        "\n",
        "#model check point\n",
        "mc = ModelCheckpoint(filepath=\"best_model.h5\",\n",
        "                     monitor= 'val_accuracy',\n",
        "                     min_delta= 0.01 ,\n",
        "                     patience = 3,\n",
        "                     verbose= 1,\n",
        "                     save_best_only= True)\n",
        "\n",
        "\n",
        "\n",
        "cb=[es,mc]\n"
      ]
    },
    {
      "cell_type": "code",
      "execution_count": null,
      "metadata": {
        "colab": {
          "base_uri": "https://localhost:8080/"
        },
        "collapsed": true,
        "id": "0lJCusrn-n0U",
        "outputId": "18089412-33c6-49e1-c736-330e3289b6ca"
      },
      "outputs": [
        {
          "name": "stderr",
          "output_type": "stream",
          "text": [
            "<ipython-input-48-1f75b53fb020>:1: UserWarning: `Model.fit_generator` is deprecated and will be removed in a future version. Please use `Model.fit`, which supports generators.\n",
            "  his = model.fit_generator(train ,\n"
          ]
        },
        {
          "name": "stdout",
          "output_type": "stream",
          "text": [
            "Epoch 1/50\n",
            "16/16 [==============================] - ETA: 0s - loss: 20.0190 - accuracy: 0.3008\n",
            "Epoch 1: val_accuracy improved from -inf to 0.46289, saving model to best_model.h5\n",
            "16/16 [==============================] - 91s 6s/step - loss: 20.0190 - accuracy: 0.3008 - val_loss: 13.6995 - val_accuracy: 0.4629\n",
            "Epoch 2/50\n",
            "16/16 [==============================] - ETA: 0s - loss: 13.6336 - accuracy: 0.5391\n",
            "Epoch 2: val_accuracy improved from 0.46289 to 0.58594, saving model to best_model.h5\n",
            "16/16 [==============================] - 81s 5s/step - loss: 13.6336 - accuracy: 0.5391 - val_loss: 8.8000 - val_accuracy: 0.5859\n",
            "Epoch 3/50\n",
            "16/16 [==============================] - ETA: 0s - loss: 9.3292 - accuracy: 0.6171\n",
            "Epoch 3: val_accuracy improved from 0.58594 to 0.71680, saving model to best_model.h5\n",
            "16/16 [==============================] - 79s 5s/step - loss: 9.3292 - accuracy: 0.6171 - val_loss: 6.7952 - val_accuracy: 0.7168\n",
            "Epoch 4/50\n",
            "16/16 [==============================] - ETA: 0s - loss: 7.5527 - accuracy: 0.6445\n",
            "Epoch 4: val_accuracy improved from 0.71680 to 0.73242, saving model to best_model.h5\n",
            "16/16 [==============================] - 80s 5s/step - loss: 7.5527 - accuracy: 0.6445 - val_loss: 7.0246 - val_accuracy: 0.7324\n",
            "Epoch 5/50\n",
            "16/16 [==============================] - ETA: 0s - loss: 5.2633 - accuracy: 0.7305\n",
            "Epoch 5: val_accuracy improved from 0.73242 to 0.73438, saving model to best_model.h5\n",
            "16/16 [==============================] - 72s 4s/step - loss: 5.2633 - accuracy: 0.7305 - val_loss: 5.9615 - val_accuracy: 0.7344\n",
            "Epoch 6/50\n",
            "16/16 [==============================] - ETA: 0s - loss: 6.2263 - accuracy: 0.6855\n",
            "Epoch 6: val_accuracy improved from 0.73438 to 0.75781, saving model to best_model.h5\n",
            "16/16 [==============================] - 75s 5s/step - loss: 6.2263 - accuracy: 0.6855 - val_loss: 6.4599 - val_accuracy: 0.7578\n",
            "Epoch 7/50\n",
            "16/16 [==============================] - ETA: 0s - loss: 5.1507 - accuracy: 0.7637\n",
            "Epoch 7: val_accuracy did not improve from 0.75781\n",
            "16/16 [==============================] - 78s 5s/step - loss: 5.1507 - accuracy: 0.7637 - val_loss: 6.8458 - val_accuracy: 0.7461\n",
            "Epoch 8/50\n",
            "16/16 [==============================] - ETA: 0s - loss: 4.5066 - accuracy: 0.7383\n",
            "Epoch 8: val_accuracy did not improve from 0.75781\n",
            "16/16 [==============================] - 68s 4s/step - loss: 4.5066 - accuracy: 0.7383 - val_loss: 6.0526 - val_accuracy: 0.7520\n",
            "Epoch 9/50\n",
            "16/16 [==============================] - ETA: 0s - loss: 5.3604 - accuracy: 0.7578\n",
            "Epoch 9: val_accuracy did not improve from 0.75781\n",
            "16/16 [==============================] - 67s 4s/step - loss: 5.3604 - accuracy: 0.7578 - val_loss: 6.4520 - val_accuracy: 0.7344\n",
            "Epoch 9: early stopping\n"
          ]
        }
      ],
      "source": [
        "his = model.fit_generator(train ,\n",
        "                          steps_per_epoch =16,\n",
        "                          epochs= 50 ,\n",
        "                          verbose = 1,\n",
        "                          callbacks=cb ,\n",
        "                          validation_data= val ,\n",
        "                          validation_steps= 16 )"
      ]
    },
    {
      "cell_type": "code",
      "execution_count": null,
      "metadata": {
        "colab": {
          "base_uri": "https://localhost:8080/"
        },
        "id": "xkDioa4NRyT3",
        "outputId": "d3d2de41-9806-44da-bbf2-abf1cc027d39"
      },
      "outputs": [
        {
          "data": {
            "text/plain": [
              "dict_keys(['loss', 'accuracy', 'val_loss', 'val_accuracy'])"
            ]
          },
          "execution_count": 49,
          "metadata": {},
          "output_type": "execute_result"
        }
      ],
      "source": [
        "h = his.history\n",
        "h.keys()\n",
        "\n"
      ]
    },
    {
      "cell_type": "code",
      "execution_count": null,
      "metadata": {
        "colab": {
          "base_uri": "https://localhost:8080/",
          "height": 452
        },
        "id": "AWeGIJzAS3VK",
        "outputId": "4cf30eb1-2c48-4627-ec10-167aff5c0def"
      },
      "outputs": [
        {
          "data": {
            "image/png": "[encoded data removed]",
            "text/plain": [
              "<Figure size 640x480 with 1 Axes>"
            ]
          },
          "metadata": {},
          "output_type": "display_data"
        }
      ],
      "source": [
        "plt.plot(h['accuracy'])\n",
        "plt.plot(h['val_accuracy'] , c=\"red\")\n",
        "plt.title(\"acc vs v-acc\")\n",
        "plt.show()"
      ]
    },
    {
      "cell_type": "code",
      "execution_count": null,
      "metadata": {
        "colab": {
          "base_uri": "https://localhost:8080/",
          "height": 452
        },
        "id": "1x30aOlATnk2",
        "outputId": "6f0b2ee0-b67d-4b73-be19-a46172fce83d"
      },
      "outputs": [
        {
          "data": {
            "image/png": "[encoded data removed]",
            "text/plain": [
              "<Figure size 640x480 with 1 Axes>"
            ]
          },
          "metadata": {},
          "output_type": "display_data"
        }
      ],
      "source": [
        "plt.plot(h['loss'])\n",
        "plt.plot(h['val_loss'] , c=\"red\")\n",
        "plt.title(\"loss vs v-loss\")\n",
        "plt.show()"
      ]
    },
    {
      "cell_type": "code",
      "execution_count": null,
      "metadata": {
        "id": "Q6J9T3GuUBZ5"
      },
      "outputs": [],
      "source": [
        "#load best_model\n",
        "\n",
        "from keras.models import load_model\n",
        "\n",
        "model= load_model(\"/content/best_model.h5\")"
      ]
    },
    {
      "cell_type": "code",
      "execution_count": null,
      "metadata": {
        "colab": {
          "base_uri": "https://localhost:8080/"
        },
        "id": "fnV2WuSDUqQ8",
        "outputId": "d425d9c7-c2ca-4b94-f16e-7b093c0257e6"
      },
      "outputs": [
        {
          "name": "stderr",
          "output_type": "stream",
          "text": [
            "<ipython-input-53-cc7c3ca5f4d7>:1: UserWarning: `Model.evaluate_generator` is deprecated and will be removed in a future version. Please use `Model.evaluate`, which supports generators.\n",
            "  acc = model.evaluate_generator(val)[1]\n"
          ]
        },
        {
          "name": "stdout",
          "output_type": "stream",
          "text": [
            "the accuracy of your model is 76.57004594802856 %\n"
          ]
        }
      ],
      "source": [
        "acc = model.evaluate_generator(val)[1]\n",
        "\n",
        "\n",
        "print(f\"the accuracy of your model is {acc*100} %\")"
      ]
    },
    {
      "cell_type": "code",
      "execution_count": null,
      "metadata": {
        "id": "7_-vq_Xsd9rE"
      },
      "outputs": [],
      "source": [
        "ref = dict(zip(list(train.class_indices.values()),list(train.class_indices.keys())))"
      ]
    },
    {
      "cell_type": "code",
      "execution_count": null,
      "metadata": {
        "id": "OIsbS_EdV8Qu"
      },
      "outputs": [],
      "source": [
        "def  prediction(path):\n",
        "\n",
        "  img = load_img(path, target_size=(256,256))\n",
        "\n",
        "  i = img_to_array(img)\n",
        "\n",
        "  im = preprocess_input(i)\n",
        "\n",
        "\n",
        "  img = np.expand_dims(im , axis=0)\n",
        "\n",
        "  pred = np.argmax(model.predict(img) )\n",
        "\n",
        "  print(f\" the image belongs to { ref[pred]}\")\n",
        "\n"
      ]
    },
    {
      "cell_type": "code",
      "execution_count": null,
      "metadata": {
        "colab": {
          "base_uri": "https://localhost:8080/"
        },
        "id": "BfQt71cSGJEX",
        "outputId": "a6d0e969-cbac-4b99-e6db-5916d9dc95f8"
      },
      "outputs": [
        {
          "name": "stdout",
          "output_type": "stream",
          "text": [
            "1/1 [==============================] - 0s 81ms/step\n",
            " the image belongs to Tomato_Late_blight\n"
          ]
        }
      ],
      "source": [
        "path =\"/content/drive/MyDrive/data/dataset/test/Tomato_Bacterial_spot/06f23987-e01b-40dc-98ef-a5b33e86bc90___UF.GRC_BS_Lab Leaf 0308.JPG\"\n",
        "prediction (path)"
      ]
    },
    {
      "cell_type": "code",
      "execution_count": null,
      "metadata": {
        "colab": {
          "base_uri": "https://localhost:8080/"
        },
        "id": "qEyYgBb0KgeU",
        "outputId": "69dc59bc-fc7c-4cc8-935d-64878a371b7f"
      },
      "outputs": [
        {
          "name": "stdout",
          "output_type": "stream",
          "text": [
            "1/1 [==============================] - 0s 17ms/step\n",
            " the image belongs to Pepper__bell___Bacterial_spot\n"
          ]
        }
      ],
      "source": [
        "path=\"/content/drive/MyDrive/data/dataset/test/Pepper__bell___Bacterial_spot/00f2e69a-1e56-412d-8a79-fdce794a17e4___JR_B.Spot 3132.JPG\"\n",
        "prediction(path)"
      ]
    },
    {
      "cell_type": "code",
      "execution_count": null,
      "metadata": {
        "colab": {
          "base_uri": "https://localhost:8080/"
        },
        "id": "9rSR0kTPKgqr",
        "outputId": "ea215492-a30b-4b14-8587-2ea5443eaba3"
      },
      "outputs": [
        {
          "name": "stdout",
          "output_type": "stream",
          "text": [
            "1/1 [==============================] - 0s 33ms/step\n",
            " the image belongs to Pepper__bell___healthy\n"
          ]
        }
      ],
      "source": [
        "path=\"/content/drive/MyDrive/data/dataset/train/Pepper__bell___Bacterial_spot/01613cd0-d3cd-4e96-945c-a312002037bf___JR_B.Spot 3262.JPG\"\n",
        "prediction(path)"
      ]
    }
  ],
  "metadata": {
    "accelerator": "GPU",
    "colab": {
      "gpuType": "T4",
      "provenance": []
    },
    "kernelspec": {
      "display_name": "Python 3",
      "name": "python3"
    },
    "language_info": {
      "codemirror_mode": {
        "name": "ipython",
        "version": 3
      },
      "file_extension": ".py",
      "mimetype": "text/x-python",
      "name": "python",
      "nbconvert_exporter": "python",
      "pygments_lexer": "ipython3",
      "version": "3.11.0"
    }
  },
  "nbformat": 4,
  "nbformat_minor": 0
}
